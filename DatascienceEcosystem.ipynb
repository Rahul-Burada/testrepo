{
 "cells": [
  {
   "cell_type": "markdown",
   "id": "715d9365-9c63-4bed-b028-efff9a31808e",
   "metadata": {},
   "source": [
    "# Data Science Tools and Ecosystem"
   ]
  },
  {
   "cell_type": "markdown",
   "id": "de9c1855-d103-4583-b120-c244107fa5bb",
   "metadata": {},
   "source": [
    "#### In this notebook, Data Science Tools and Ecosystem are summarized."
   ]
  },
  {
   "cell_type": "markdown",
   "id": "5618f071-77f2-4ed6-acdf-bf9f4c1630da",
   "metadata": {},
   "source": [
    "**Objectives:**\n",
    "- List of popular languages in Data Science\n",
    "- List of commonly used Libraries in Data Science\n",
    "- 3 Open source Development Environment Tools\n",
    "- few examples of evaluating arithmetic expressions in Python"
   ]
  },
  {
   "cell_type": "markdown",
   "id": "a8ad2549-ff66-4e3a-87b8-43164c49eb92",
   "metadata": {},
   "source": [
    "Some of the popular languages that Data Scientists use are:\n",
    "\n",
    "1. Python.\n",
    "2. R.\n",
    "3. SQL.\n",
    "4. Java.\n",
    "5. Julia.\n",
    "6. Scala.\n",
    "7. JavaScript."
   ]
  },
  {
   "cell_type": "markdown",
   "id": "56cf987c-0f83-46de-8fef-4f7c63ffaf72",
   "metadata": {},
   "source": [
    "Some of the commonly used libraries used by Data Scientists include:\n",
    "\n",
    "1. Pandas.\n",
    "2. NumPy.\n",
    "3. SciPy.\n",
    "4. TensorFlow.\n",
    "5. Matplotlib.\n",
    "6. Keras.\n",
    "7. SciKit-Learn."
   ]
  },
  {
   "cell_type": "markdown",
   "id": "37571ba5-5872-48a3-b32a-007d875a1d81",
   "metadata": {},
   "source": [
    "Data Science open source development environment tools\n",
    "|Data Science Tools|\n",
    "| ------ | \n",
    "|Jupyter|\n",
    "|RStudio|\n",
    "|Spyder|"
   ]
  },
  {
   "cell_type": "markdown",
   "id": "2600037c-bb65-487e-9503-0aec3247839d",
   "metadata": {},
   "source": [
    "### Below are a few examples of evaluating arithmetic expressions in Python"
   ]
  },
  {
   "cell_type": "markdown",
   "id": "6b9010bb-a6b6-4661-9ae8-7284652c34bd",
   "metadata": {},
   "source": [
    "This a simple arithmetic expression to mutiply then add integers"
   ]
  },
  {
   "cell_type": "code",
   "execution_count": 7,
   "id": "5fc559ed-8918-40ae-b2e8-c334cd54bbff",
   "metadata": {},
   "outputs": [
    {
     "data": {
      "text/plain": [
       "17"
      ]
     },
     "execution_count": 7,
     "metadata": {},
     "output_type": "execute_result"
    }
   ],
   "source": [
    " (3*4)+5"
   ]
  },
  {
   "cell_type": "markdown",
   "id": "01505b5f-a31a-453e-a5d7-978d279d12d4",
   "metadata": {},
   "source": [
    "This will convert 200 minutes to hours by diving by 60"
   ]
  },
  {
   "cell_type": "code",
   "execution_count": 12,
   "id": "f0e07924-a84f-412e-a3cf-18266f9a8a33",
   "metadata": {},
   "outputs": [
    {
     "name": "stdout",
     "output_type": "stream",
     "text": [
      "3.3333333333333335hours\n"
     ]
    }
   ],
   "source": [
    "Time = 200\n",
    "Hours = 0\n",
    "\n",
    "Hours = Time / 60\n",
    "print( str(Hours)  +  \"hours\" )"
   ]
  },
  {
   "cell_type": "markdown",
   "id": "174c0726-c1b0-42d6-8ae8-5a41ac9f3db9",
   "metadata": {},
   "source": [
    "## Author\n",
    "Rahul Burada"
   ]
  },
  {
   "cell_type": "code",
   "execution_count": null,
   "id": "877973cf-f273-46eb-9288-eda7ac7de01f",
   "metadata": {},
   "outputs": [],
   "source": []
  }
 ],
 "metadata": {
  "kernelspec": {
   "display_name": "Python 3 (ipykernel)",
   "language": "python",
   "name": "python3"
  },
  "language_info": {
   "codemirror_mode": {
    "name": "ipython",
    "version": 3
   },
   "file_extension": ".py",
   "mimetype": "text/x-python",
   "name": "python",
   "nbconvert_exporter": "python",
   "pygments_lexer": "ipython3",
   "version": "3.11.7"
  }
 },
 "nbformat": 4,
 "nbformat_minor": 5
}
